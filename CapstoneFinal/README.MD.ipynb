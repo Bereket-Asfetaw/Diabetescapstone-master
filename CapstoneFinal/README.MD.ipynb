{
 "cells": [
  {
   "cell_type": "markdown",
   "metadata": {},
   "source": [
    "Predicting the progression of diabetes"
   ]
  },
  {
   "cell_type": "markdown",
   "metadata": {},
   "source": [
    "# objective:"
   ]
  },
  {
   "attachments": {},
   "cell_type": "markdown",
   "metadata": {},
   "source": [
    "Develop a machine learning application  integrating with interactive web  application that\n",
    "* Individuals \n",
    "* Health cares \n",
    "* Health insurance \n",
    "\n",
    " helps to identify the progression of diabetes on specific person \n",
    "\n",
    "\n"
   ]
  },
  {
   "cell_type": "markdown",
   "metadata": {},
   "source": [
    "<img src=\"./Solution.png\" width=500 height=500><img>"
   ]
  },
  {
   "cell_type": "markdown",
   "metadata": {},
   "source": [
    "# Repository"
   ]
  },
  {
   "cell_type": "markdown",
   "metadata": {},
   "source": [
    "This repository contains the following files and directories \n",
    "\n",
    "* app.py: \n",
    "* Templates --\n",
    "            |-index\n",
    "            |-capstoneproject\n",
    "            |-visualization\n",
    "            |-contact\n",
    "            \n",
    "* static ---\n",
    "           |--image--\n",
    "                   |--Explorative images \n",
    "           |--asset\n",
    "* env\n",
    "* Procfile\n",
    "* requirements.txt \n"
   ]
  },
  {
   "cell_type": "markdown",
   "metadata": {},
   "source": [
    "##  Data Collection "
   ]
  },
  {
   "cell_type": "markdown",
   "metadata": {},
   "source": [
    "### CapstoneFinalFile.ipynb"
   ]
  },
  {
   "cell_type": "markdown",
   "metadata": {},
   "source": [
    "This main all the source codes to handle the main steps of the the project.\n",
    "* importing the orginal source data (url=\"https://www4.stat.ncsu.edu/~boos/var.select/diabetes.tab.txt\") using the pandas Dataframe.\n",
    "* Data preprocessing and wrangling :\n",
    "    * Prepare the dataset  for training and \n",
    "    * cleane observations by removing  duplicates, correct errors, deal with missing values, normalization, data type conversions\n",
    "* Explorative alaysis \n",
    "    * Visualize data to help detect relevant relationships between the risk factors (independent variables) such as Age , Sex, Body mass index and siz blood test result(serum) and the the glood suger amount(dependent variable)\n",
    "    * generate the explorative results such as histogram  , box-blot , statstical description , and tabulated the relationship between the independent dependent variables.\n",
    "* Pipline and transformors:\n",
    "    *  The pipline has a class that  transformers the categorical varaible (SEX) using One Hot Encoder and feature scaling (normalize) to ensure all  independent variables are centered around 0  using StandardScaler which is provided by sklearn \n",
    "* Train the machine learning model:\n",
    "    * As a supervised learning this has a split the dataser into training and test by using the train_test_split class of sklearn and fitted using regressosors (LinearRegression , RandomForest,KNeighborsRegressor,Ridge, RidgeCV).The training process continues until the model achieves a desired level of accuracy on the training data and the best regeressor.\n",
    "\n",
    "* Optimal value of a model:\n",
    "      * GridSearchCV is used to perform hyper parameter tuning in order to determine the optimal values for a given model.\n",
    "      * To test generalizability and  of the model i was using cross_validate class that provided by sklearn\n",
    "      * plotting scores cross_value_score, training  and test error using matplotlib library provided by sklearn\n",
    " * Model Evaluation and selection:\n",
    "      *i have  are going to tune and train 5 models using (LinearRegression , RandomForest,KNeighborsRegressor,Ridge, RidgeCV) to investigate the highest performing models among them.i added  few additional lines of code to evaluate the tuned regressor  performance on a test and and training dataset on different data size(10%, 20%,30%,40% and 50%) and  save the result.\n",
    "* Finalize the model with serialization:\n",
    "    * dill  librarly was used to  serializing objects  the selected model(KNNRegressor).\n",
    "    *i used this operation to serialize the machine learning algorithms and save the serialized format (dill file).\n",
    "    * finally i loded this file on app.py  to deserialize the model and to make new predictions that comes from HTML file (user form)"
   ]
  },
  {
   "cell_type": "markdown",
   "metadata": {},
   "source": [
    "## app.py file"
   ]
  },
  {
   "cell_type": "markdown",
   "metadata": {},
   "source": [
    "* This is core part of the entire application that connect user and the machine learning model by having function \n",
    "    * Creating an instance of flask object \n",
    "    * Loading the serialized model \n",
    "    * Predicting and return the result through the HTML templates \n",
    "    * System Exception handling \n",
    "    * implement setup routs for each backend endpoint by allowing HTTP methods (POST and GET)\n",
    "  "
   ]
  },
  {
   "cell_type": "markdown",
   "metadata": {},
   "source": [
    "## templates"
   ]
  },
  {
   "cell_type": "markdown",
   "metadata": {},
   "source": [
    "This directory consists of HTML files to implement the view functions .\n",
    "i leverage the jinja template inhereitance sothat \n",
    "* base.html : contains a base template that consists of all HTLM doc structure and blocks are defined to be reused by other HTLM files \n",
    "* capstoneprojct.html : the main user form and result section is deigned in this template \n",
    "* visualize.html : This template contains the explorative result of the machine learining and table of the performance of each model at different size of both on training and test stage\n",
    "* contact.html : contains the contact information of the developer.\n"
   ]
  },
  {
   "cell_type": "markdown",
   "metadata": {},
   "source": [
    "## static"
   ]
  },
  {
   "cell_type": "markdown",
   "metadata": {},
   "source": [
    "This director consists of \n",
    "    * Images that are plotted by the project be sent to the browser when requested\n",
    "    * the serialized part of the selected machine learning model will be loaded at app.py file when prediction is required."
   ]
  },
  {
   "cell_type": "markdown",
   "metadata": {},
   "source": [
    "## Procfile "
   ]
  },
  {
   "cell_type": "markdown",
   "metadata": {},
   "source": [
    "* This file is created to  fullfile the requirement of Heroku app deployment\n",
    "* Contain a defined command that declare the process type (\n",
    "          web: gunicorn app:app"
   ]
  },
  {
   "cell_type": "markdown",
   "metadata": {},
   "source": [
    "## requirement.txt"
   ]
  },
  {
   "cell_type": "markdown",
   "metadata": {},
   "source": [
    " * This file  contains a pinned version of everything that are used in this package \n",
    "            click==7.1.2\n",
    "            dill==0.3.1.1\n",
    "            Flask==1.1.2\n",
    "            gunicorn==20.0.4\n",
    "            itsdangerous==1.1.0\n",
    "            Jinja2==2.11.2\n",
    "            joblib==0.15.1\n",
    "            MarkupSafe==1.1.1\n",
    "            numpy==1.18.4\n",
    "            pandas==1.0.3\n",
    "            python-dateutil==2.8.1\n",
    "            pytz==2020.1\n",
    "            scikit-learn==0.23.1\n",
    "            scipy==1.4.1\n",
    "            six==1.15.0\n",
    "            sklearn==0.0\n",
    "            threadpoolctl==2.0.0\n",
    "            Werkzeug==1.0.1\n",
    " * it is  used to force pip to install version of a sub-dependency"
   ]
  },
  {
   "cell_type": "markdown",
   "metadata": {},
   "source": [
    "## env"
   ]
  },
  {
   "cell_type": "markdown",
   "metadata": {},
   "source": [
    "This directory contain a separate enviroment of this project. \n",
    "\n",
    "env--\n",
    "            | <br>\n",
    "            |---Lib <br>\n",
    "                 |-----site-package<br>\n",
    "            |---Scripts<br>\n",
    "            |---pyvenv\n",
    "\n",
    "* Lib : that interactive with the virtual enviroment cotain a copy of python version where each dependency is installed\n",
    "* Scripts:are used to set up shell to use the environment’s Python executable and its site-packages by default.to activate the env the followed command shoud executed at the shel\n",
    "                     $ source env/Scripts/activate\n"
   ]
  },
  {
   "cell_type": "code",
   "execution_count": null,
   "metadata": {},
   "outputs": [],
   "source": []
  }
 ],
 "metadata": {
  "kernelspec": {
   "display_name": "Python 3",
   "language": "python",
   "name": "python3"
  },
  "language_info": {
   "codemirror_mode": {
    "name": "ipython",
    "version": 3
   },
   "file_extension": ".py",
   "mimetype": "text/x-python",
   "name": "python",
   "nbconvert_exporter": "python",
   "pygments_lexer": "ipython3",
   "version": "3.6.8"
  },
  "toc": {
   "base_numbering": 1,
   "nav_menu": {},
   "number_sections": true,
   "sideBar": true,
   "skip_h1_title": false,
   "title_cell": "Table of Contents",
   "title_sidebar": "Contents",
   "toc_cell": false,
   "toc_position": {},
   "toc_section_display": true,
   "toc_window_display": false
  }
 },
 "nbformat": 4,
 "nbformat_minor": 2
}
